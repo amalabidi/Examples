{
  "nbformat": 4,
  "nbformat_minor": 0,
  "metadata": {
    "colab": {
      "name": "Untitled6.ipynb",
      "provenance": []
    },
    "kernelspec": {
      "name": "python3",
      "display_name": "Python 3"
    }
  },
  "cells": [
    {
      "cell_type": "code",
      "metadata": {
        "colab": {
          "base_uri": "https://localhost:8080/"
        },
        "id": "mhGn71TWnam4",
        "outputId": "ed9e268e-4d6d-4201-c394-e853e8ee0ec0"
      },
      "source": [
        "import pandas as pd\r\n",
        "data=pd.read_csv('heart.csv')\r\n",
        "\r\n",
        "data.shape"
      ],
      "execution_count": 122,
      "outputs": [
        {
          "output_type": "execute_result",
          "data": {
            "text/plain": [
              "(303, 14)"
            ]
          },
          "metadata": {
            "tags": []
          },
          "execution_count": 122
        }
      ]
    },
    {
      "cell_type": "code",
      "metadata": {
        "colab": {
          "base_uri": "https://localhost:8080/"
        },
        "id": "HD7sVBpUviJT",
        "outputId": "a6f88200-40e8-4e86-c7aa-15332bf8e7c1"
      },
      "source": [
        "num_true=len(data.loc[data['num']==1])\r\n",
        "num_false=len(data.loc[data['num']==0])\r\n",
        "print(num_true)\r\n",
        "print(num_false)"
      ],
      "execution_count": 123,
      "outputs": [
        {
          "output_type": "stream",
          "text": [
            "139\n",
            "164\n"
          ],
          "name": "stdout"
        }
      ]
    },
    {
      "cell_type": "code",
      "metadata": {
        "colab": {
          "base_uri": "https://localhost:8080/",
          "height": 204
        },
        "id": "X4w34deGoHFk",
        "outputId": "7cbaa5a8-491c-4a06-e088-0a56280de6cd"
      },
      "source": [
        "data.tail()"
      ],
      "execution_count": 21,
      "outputs": [
        {
          "output_type": "execute_result",
          "data": {
            "text/html": [
              "<div>\n",
              "<style scoped>\n",
              "    .dataframe tbody tr th:only-of-type {\n",
              "        vertical-align: middle;\n",
              "    }\n",
              "\n",
              "    .dataframe tbody tr th {\n",
              "        vertical-align: top;\n",
              "    }\n",
              "\n",
              "    .dataframe thead th {\n",
              "        text-align: right;\n",
              "    }\n",
              "</style>\n",
              "<table border=\"1\" class=\"dataframe\">\n",
              "  <thead>\n",
              "    <tr style=\"text-align: right;\">\n",
              "      <th></th>\n",
              "      <th>age</th>\n",
              "      <th>sex</th>\n",
              "      <th>cp</th>\n",
              "      <th>trestbps</th>\n",
              "      <th>chol</th>\n",
              "      <th>fbs</th>\n",
              "      <th>restecg</th>\n",
              "      <th>thalach</th>\n",
              "      <th>exang</th>\n",
              "      <th>oldpeak</th>\n",
              "      <th>slope</th>\n",
              "      <th>ca</th>\n",
              "      <th>thal</th>\n",
              "      <th>num</th>\n",
              "    </tr>\n",
              "  </thead>\n",
              "  <tbody>\n",
              "    <tr>\n",
              "      <th>298</th>\n",
              "      <td>45.0</td>\n",
              "      <td>1.0</td>\n",
              "      <td>1.0</td>\n",
              "      <td>110.0</td>\n",
              "      <td>264.0</td>\n",
              "      <td>0.0</td>\n",
              "      <td>0.0</td>\n",
              "      <td>132.0</td>\n",
              "      <td>0.0</td>\n",
              "      <td>1.2</td>\n",
              "      <td>2.0</td>\n",
              "      <td>0.0</td>\n",
              "      <td>7.0</td>\n",
              "      <td>1.0</td>\n",
              "    </tr>\n",
              "    <tr>\n",
              "      <th>299</th>\n",
              "      <td>68.0</td>\n",
              "      <td>1.0</td>\n",
              "      <td>4.0</td>\n",
              "      <td>144.0</td>\n",
              "      <td>193.0</td>\n",
              "      <td>1.0</td>\n",
              "      <td>0.0</td>\n",
              "      <td>141.0</td>\n",
              "      <td>0.0</td>\n",
              "      <td>3.4</td>\n",
              "      <td>2.0</td>\n",
              "      <td>2.0</td>\n",
              "      <td>7.0</td>\n",
              "      <td>1.0</td>\n",
              "    </tr>\n",
              "    <tr>\n",
              "      <th>300</th>\n",
              "      <td>57.0</td>\n",
              "      <td>1.0</td>\n",
              "      <td>4.0</td>\n",
              "      <td>130.0</td>\n",
              "      <td>131.0</td>\n",
              "      <td>0.0</td>\n",
              "      <td>0.0</td>\n",
              "      <td>115.0</td>\n",
              "      <td>1.0</td>\n",
              "      <td>1.2</td>\n",
              "      <td>2.0</td>\n",
              "      <td>1.0</td>\n",
              "      <td>7.0</td>\n",
              "      <td>1.0</td>\n",
              "    </tr>\n",
              "    <tr>\n",
              "      <th>301</th>\n",
              "      <td>57.0</td>\n",
              "      <td>0.0</td>\n",
              "      <td>2.0</td>\n",
              "      <td>130.0</td>\n",
              "      <td>236.0</td>\n",
              "      <td>0.0</td>\n",
              "      <td>2.0</td>\n",
              "      <td>174.0</td>\n",
              "      <td>0.0</td>\n",
              "      <td>0.0</td>\n",
              "      <td>2.0</td>\n",
              "      <td>1.0</td>\n",
              "      <td>3.0</td>\n",
              "      <td>1.0</td>\n",
              "    </tr>\n",
              "    <tr>\n",
              "      <th>302</th>\n",
              "      <td>38.0</td>\n",
              "      <td>1.0</td>\n",
              "      <td>3.0</td>\n",
              "      <td>138.0</td>\n",
              "      <td>175.0</td>\n",
              "      <td>0.0</td>\n",
              "      <td>0.0</td>\n",
              "      <td>173.0</td>\n",
              "      <td>0.0</td>\n",
              "      <td>0.0</td>\n",
              "      <td>1.0</td>\n",
              "      <td>-100000.0</td>\n",
              "      <td>3.0</td>\n",
              "      <td>0.0</td>\n",
              "    </tr>\n",
              "  </tbody>\n",
              "</table>\n",
              "</div>"
            ],
            "text/plain": [
              "      age  sex   cp  trestbps   chol  ...  oldpeak  slope        ca  thal  num\n",
              "298  45.0  1.0  1.0     110.0  264.0  ...      1.2    2.0       0.0   7.0  1.0\n",
              "299  68.0  1.0  4.0     144.0  193.0  ...      3.4    2.0       2.0   7.0  1.0\n",
              "300  57.0  1.0  4.0     130.0  131.0  ...      1.2    2.0       1.0   7.0  1.0\n",
              "301  57.0  0.0  2.0     130.0  236.0  ...      0.0    2.0       1.0   3.0  1.0\n",
              "302  38.0  1.0  3.0     138.0  175.0  ...      0.0    1.0 -100000.0   3.0  0.0\n",
              "\n",
              "[5 rows x 14 columns]"
            ]
          },
          "metadata": {
            "tags": []
          },
          "execution_count": 21
        }
      ]
    },
    {
      "cell_type": "code",
      "metadata": {
        "colab": {
          "base_uri": "https://localhost:8080/"
        },
        "id": "r9fC58FtpejY",
        "outputId": "0bd192bd-a49d-4938-e318-b8aac0d75a27"
      },
      "source": [
        "data_with_missing=[col for col in data.columns if data[col].isnull().any()]\r\n",
        "print(data_with_missing)"
      ],
      "execution_count": 22,
      "outputs": [
        {
          "output_type": "stream",
          "text": [
            "[]\n"
          ],
          "name": "stdout"
        }
      ]
    },
    {
      "cell_type": "code",
      "metadata": {
        "colab": {
          "base_uri": "https://localhost:8080/"
        },
        "id": "Ztc7meVxp1kO",
        "outputId": "803ebcc2-3f38-43d5-e6c4-62ad1f406367"
      },
      "source": [
        "s=(data.dtypes=='object')\r\n",
        "categorical=list(s[s].index)\r\n",
        "print(categorical)"
      ],
      "execution_count": 23,
      "outputs": [
        {
          "output_type": "stream",
          "text": [
            "[]\n"
          ],
          "name": "stdout"
        }
      ]
    },
    {
      "cell_type": "code",
      "metadata": {
        "colab": {
          "base_uri": "https://localhost:8080/",
          "height": 589
        },
        "id": "LWu8O7tLsvNT",
        "outputId": "c4e8f0a3-86c8-4787-8496-3ef93a4d9c76"
      },
      "source": [
        "import seaborn as sn\r\n",
        "import matplotlib.pyplot as plt\r\n",
        "\r\n",
        "corrMatrix = data.corr()\r\n",
        "print (corrMatrix)\r\n",
        "sn.heatmap(corrMatrix, annot=False)\r\n",
        "plt.show()"
      ],
      "execution_count": 39,
      "outputs": [
        {
          "output_type": "stream",
          "text": [
            "               age       sex        cp  ...        ca      thal       num\n",
            "age       1.000000 -0.097542  0.104139  ...  0.085766  0.017545  0.223120\n",
            "sex      -0.097542  1.000000  0.010084  ... -0.079361  0.031518  0.276816\n",
            "cp        0.104139  0.010084  1.000000  ...  0.019134 -0.028985  0.414446\n",
            "trestbps  0.284946 -0.064456 -0.036077  ... -0.010263  0.017149  0.150825\n",
            "chol      0.208950 -0.199915  0.072319  ...  0.068128  0.057866  0.085164\n",
            "fbs       0.118530  0.047862 -0.039975  ... -0.032997 -0.080552  0.025264\n",
            "restecg   0.148868  0.021647  0.067505  ...  0.057077 -0.000807  0.169202\n",
            "thalach  -0.393806 -0.048663 -0.334422  ... -0.038729  0.050287 -0.417167\n",
            "exang     0.091661  0.146201  0.384060  ...  0.018935 -0.030035  0.431894\n",
            "oldpeak   0.203805  0.102173  0.202277  ...  0.091285  0.038027  0.424510\n",
            "slope     0.161770  0.037533  0.152050  ...  0.018934  0.013406  0.339213\n",
            "ca        0.085766 -0.079361  0.019134  ...  1.000000 -0.009427  0.048491\n",
            "thal      0.017545  0.031518 -0.028985  ... -0.009427  1.000000 -0.006624\n",
            "num       0.223120  0.276816  0.414446  ...  0.048491 -0.006624  1.000000\n",
            "\n",
            "[14 rows x 14 columns]\n"
          ],
          "name": "stdout"
        },
        {
          "output_type": "display_data",
          "data": {
            "image/png": "[encoded data removed]",
            "text/plain": [
              "<Figure size 432x288 with 2 Axes>"
            ]
          },
          "metadata": {
            "tags": [],
            "needs_background": "light"
          }
        }
      ]
    },
    {
      "cell_type": "code",
      "metadata": {
        "id": "YTYcrmTCtVAx"
      },
      "source": [
        "del(data['oldpeak'])"
      ],
      "execution_count": 124,
      "outputs": []
    },
    {
      "cell_type": "code",
      "metadata": {
        "colab": {
          "base_uri": "https://localhost:8080/",
          "height": 572
        },
        "id": "7z8BkOWutZLZ",
        "outputId": "a8e28991-20a7-4a3e-d8d1-568440d71cb0"
      },
      "source": [
        "import seaborn as sn\r\n",
        "import matplotlib.pyplot as plt\r\n",
        "\r\n",
        "corrMatrix = data.corr()\r\n",
        "print (corrMatrix)\r\n",
        "sn.heatmap(corrMatrix, annot=False)\r\n",
        "plt.show()"
      ],
      "execution_count": 125,
      "outputs": [
        {
          "output_type": "stream",
          "text": [
            "               age       sex        cp  ...        ca      thal       num\n",
            "age       1.000000 -0.097542  0.104139  ...  0.085766  0.017545  0.223120\n",
            "sex      -0.097542  1.000000  0.010084  ... -0.079361  0.031518  0.276816\n",
            "cp        0.104139  0.010084  1.000000  ...  0.019134 -0.028985  0.414446\n",
            "trestbps  0.284946 -0.064456 -0.036077  ... -0.010263  0.017149  0.150825\n",
            "chol      0.208950 -0.199915  0.072319  ...  0.068128  0.057866  0.085164\n",
            "fbs       0.118530  0.047862 -0.039975  ... -0.032997 -0.080552  0.025264\n",
            "restecg   0.148868  0.021647  0.067505  ...  0.057077 -0.000807  0.169202\n",
            "thalach  -0.393806 -0.048663 -0.334422  ... -0.038729  0.050287 -0.417167\n",
            "exang     0.091661  0.146201  0.384060  ...  0.018935 -0.030035  0.431894\n",
            "slope     0.161770  0.037533  0.152050  ...  0.018934  0.013406  0.339213\n",
            "ca        0.085766 -0.079361  0.019134  ...  1.000000 -0.009427  0.048491\n",
            "thal      0.017545  0.031518 -0.028985  ... -0.009427  1.000000 -0.006624\n",
            "num       0.223120  0.276816  0.414446  ...  0.048491 -0.006624  1.000000\n",
            "\n",
            "[13 rows x 13 columns]\n"
          ],
          "name": "stdout"
        },
        {
          "output_type": "display_data",
          "data": {
            "image/png": "[encoded data removed]",
            "text/plain": [
              "<Figure size 432x288 with 2 Axes>"
            ]
          },
          "metadata": {
            "tags": [],
            "needs_background": "light"
          }
        }
      ]
    },
    {
      "cell_type": "code",
      "metadata": {
        "colab": {
          "base_uri": "https://localhost:8080/"
        },
        "id": "JDH71R6Uthx9",
        "outputId": "e276e875-035c-42e9-b039-ad4458350884"
      },
      "source": [
        "y=data['num']\r\n",
        "del data['num']\r\n",
        "y.shape"
      ],
      "execution_count": 126,
      "outputs": [
        {
          "output_type": "execute_result",
          "data": {
            "text/plain": [
              "(303,)"
            ]
          },
          "metadata": {
            "tags": []
          },
          "execution_count": 126
        }
      ]
    },
    {
      "cell_type": "code",
      "metadata": {
        "id": "lyyhTYJutwKw"
      },
      "source": [
        "from sklearn.model_selection import train_test_split\r\n",
        "X_train, X_valid, y_train, y_valid = train_test_split(data, y, \r\n",
        "                                                                train_size=0.8, test_size=0.2,\r\n",
        "                                                                random_state=0)"
      ],
      "execution_count": 72,
      "outputs": []
    },
    {
      "cell_type": "code",
      "metadata": {
        "id": "fZSF-Re96h-r"
      },
      "source": [
        ""
      ],
      "execution_count": null,
      "outputs": []
    },
    {
      "cell_type": "code",
      "metadata": {
        "id": "rfs3vhUkvMk5"
      },
      "source": [
        "from tensorflow import keras \r\n",
        "from keras import layers\r\n",
        "model=keras.Sequential([\r\n",
        "                        layers.Dense(units=10,activation='relu',input_shape=[12]),\r\n",
        "                        layers.Dense(20,activation='relu'),\r\n",
        "                       \r\n",
        "                         layers.Dense(1,activation='sigmoid')\r\n",
        "])"
      ],
      "execution_count": 182,
      "outputs": []
    },
    {
      "cell_type": "code",
      "metadata": {
        "id": "xHOF3s_NxnzS"
      },
      "source": [
        "model.compile(optimizer='adam',loss='binary_crossentropy',metrics=['binary_accuracy'])"
      ],
      "execution_count": 183,
      "outputs": []
    },
    {
      "cell_type": "code",
      "metadata": {
        "id": "irCamiIazOh-"
      },
      "source": [
        "early_stopping=keras.callbacks.EarlyStopping(patience=3,min_delta=0.001,restore_best_weights=True)"
      ],
      "execution_count": 184,
      "outputs": []
    },
    {
      "cell_type": "code",
      "metadata": {
        "colab": {
          "base_uri": "https://localhost:8080/"
        },
        "id": "q94FUB1V5nXI",
        "outputId": "b7c62b07-6bd5-4b5a-a0c2-ec8574633580"
      },
      "source": [
        "\r\n",
        "y_train.shape"
      ],
      "execution_count": 146,
      "outputs": [
        {
          "output_type": "execute_result",
          "data": {
            "text/plain": [
              "(242,)"
            ]
          },
          "metadata": {
            "tags": []
          },
          "execution_count": 146
        }
      ]
    },
    {
      "cell_type": "code",
      "metadata": {
        "colab": {
          "base_uri": "https://localhost:8080/"
        },
        "id": "-056JloJzyTv",
        "outputId": "d6cfc726-96e6-4fab-e6be-d6138a43cd5c"
      },
      "source": [
        "history=model.fit(X_train,y_train,validation_data=(X_valid,y_valid),batch_size=10,epochs=15,callbacks=[early_stopping])"
      ],
      "execution_count": 185,
      "outputs": [
        {
          "output_type": "stream",
          "text": [
            "Epoch 1/15\n",
            "25/25 [==============================] - 1s 9ms/step - loss: 286.5584 - binary_accuracy: 0.4480 - val_loss: 394.0471 - val_binary_accuracy: 0.4262\n",
            "Epoch 2/15\n",
            "25/25 [==============================] - 0s 3ms/step - loss: 217.4841 - binary_accuracy: 0.4592 - val_loss: 302.1125 - val_binary_accuracy: 0.4262\n",
            "Epoch 3/15\n",
            "25/25 [==============================] - 0s 3ms/step - loss: 228.2351 - binary_accuracy: 0.4987 - val_loss: 152.4789 - val_binary_accuracy: 0.5410\n",
            "Epoch 4/15\n",
            "25/25 [==============================] - 0s 3ms/step - loss: 121.9155 - binary_accuracy: 0.5006 - val_loss: 4.8364 - val_binary_accuracy: 0.5082\n",
            "Epoch 5/15\n",
            "25/25 [==============================] - 0s 3ms/step - loss: 260.8344 - binary_accuracy: 0.5301 - val_loss: 3.3588 - val_binary_accuracy: 0.4918\n",
            "Epoch 6/15\n",
            "25/25 [==============================] - 0s 3ms/step - loss: 23.0289 - binary_accuracy: 0.5902 - val_loss: 2.6072 - val_binary_accuracy: 0.5410\n",
            "Epoch 7/15\n",
            "25/25 [==============================] - 0s 3ms/step - loss: 108.2166 - binary_accuracy: 0.5593 - val_loss: 2.4195 - val_binary_accuracy: 0.5738\n",
            "Epoch 8/15\n",
            "25/25 [==============================] - 0s 3ms/step - loss: 16.3601 - binary_accuracy: 0.5496 - val_loss: 4.1410 - val_binary_accuracy: 0.5410\n",
            "Epoch 9/15\n",
            "25/25 [==============================] - 0s 3ms/step - loss: 143.0647 - binary_accuracy: 0.5561 - val_loss: 43.6849 - val_binary_accuracy: 0.5574\n",
            "Epoch 10/15\n",
            "25/25 [==============================] - 0s 2ms/step - loss: 48.3646 - binary_accuracy: 0.5167 - val_loss: 1.9591 - val_binary_accuracy: 0.6066\n",
            "Epoch 11/15\n",
            "25/25 [==============================] - 0s 2ms/step - loss: 25.5511 - binary_accuracy: 0.5493 - val_loss: 47.6953 - val_binary_accuracy: 0.5738\n",
            "Epoch 12/15\n",
            "25/25 [==============================] - 0s 3ms/step - loss: 51.9777 - binary_accuracy: 0.5417 - val_loss: 2.7474 - val_binary_accuracy: 0.5410\n",
            "Epoch 13/15\n",
            "25/25 [==============================] - 0s 3ms/step - loss: 12.3881 - binary_accuracy: 0.5416 - val_loss: 17.6008 - val_binary_accuracy: 0.5574\n"
          ],
          "name": "stdout"
        }
      ]
    },
    {
      "cell_type": "code",
      "metadata": {
        "colab": {
          "base_uri": "https://localhost:8080/",
          "height": 562
        },
        "id": "xR27LDXc63Z2",
        "outputId": "759cc619-fafb-4e42-b9a2-b69ddde1fad1"
      },
      "source": [
        "history_df=pd.DataFrame(history.history)\r\n",
        "history_df.loc[:,['loss','val_loss']].plot(title=\"Cross-entropy\")\r\n",
        "history_df.loc[:,['binary_accuracy','val_binary_accuracy']].plot(title=\"Accuracy\")\r\n",
        "print(\"maximum accuracy: {:0.4f}\".format(history_df['val_binary_accuracy'].max()));"
      ],
      "execution_count": 186,
      "outputs": [
        {
          "output_type": "stream",
          "text": [
            "maximum accuracy: 0.6066\n"
          ],
          "name": "stdout"
        },
        {
          "output_type": "display_data",
          "data": {
            "image/png": "[encoded data removed]",
            "text/plain": [
              "<Figure size 432x288 with 1 Axes>"
            ]
          },
          "metadata": {
            "tags": [],
            "needs_background": "light"
          }
        },
        {
          "output_type": "display_data",
          "data": {
            "image/png": "[encoded data removed]",
            "text/plain": [
              "<Figure size 432x288 with 1 Axes>"
            ]
          },
          "metadata": {
            "tags": [],
            "needs_background": "light"
          }
        }
      ]
    },
    {
      "cell_type": "code",
      "metadata": {
        "id": "mjud915z-61v"
      },
      "source": [
        "def My_model():\r\n",
        "    model=keras.Sequential([\r\n",
        "                        layers.Dense(units=128,activation='relu',input_shape=[12]),\r\n",
        "                        layers.Dense(100,activation='relu'),\r\n",
        "                       \r\n",
        "                         layers.Dense(1,activation='sigmoid')])\r\n",
        "    model.compile(loss='binary_crossentropy', optimizer='adam', metrics=['accuracy'])\r\n",
        "    return model"
      ],
      "execution_count": 139,
      "outputs": []
    },
    {
      "cell_type": "code",
      "metadata": {
        "id": "Bs1-flZj-Dq8"
      },
      "source": [
        "from keras.wrappers.scikit_learn import KerasClassifier\r\n",
        "estimator=KerasClassifier(build_fn=My_model,epochs=200,batch_size=5,verbose=0)"
      ],
      "execution_count": 140,
      "outputs": []
    },
    {
      "cell_type": "code",
      "metadata": {
        "id": "AcFgIWo--KAT"
      },
      "source": [
        "from sklearn.model_selection import KFold\r\n",
        "from sklearn.model_selection import cross_val_score\r\n",
        "kfold=KFold(n_splits=10,shuffle=True)\r\n",
        "results=cross_val_score(estimator,data,y,cv=kfold)"
      ],
      "execution_count": 141,
      "outputs": []
    },
    {
      "cell_type": "code",
      "metadata": {
        "colab": {
          "base_uri": "https://localhost:8080/"
        },
        "id": "J0Yx-_R2AZ-h",
        "outputId": "a936e998-7271-4cd4-abc7-1dce59affcff"
      },
      "source": [
        "print(\r\n",
        "results.mean())"
      ],
      "execution_count": 142,
      "outputs": [
        {
          "output_type": "stream",
          "text": [
            "0.8049462318420411\n"
          ],
          "name": "stdout"
        }
      ]
    }
  ]
}