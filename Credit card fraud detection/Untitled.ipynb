{
 "cells": [
  {
   "cell_type": "code",
   "execution_count": 18,
   "metadata": {},
   "outputs": [],
   "source": [
    "import pandas as pd\n",
    "\n",
    "file_path = './creditcard.csv'\n",
    "\n",
    "X_full = pd.read_csv(file_path)\n",
    "X_full.head()\n",
    "y=X_full['Class']\n"
   ]
  },
  {
   "cell_type": "code",
   "execution_count": 19,
   "metadata": {},
   "outputs": [
    {
     "name": "stdout",
     "output_type": "stream",
     "text": [
      "(284807, 31)\n"
     ]
    }
   ],
   "source": [
    "print(X_full.shape)"
   ]
  },
  {
   "cell_type": "code",
   "execution_count": 20,
   "metadata": {},
   "outputs": [
    {
     "data": {
      "text/plain": [
       "False"
      ]
     },
     "execution_count": 20,
     "metadata": {},
     "output_type": "execute_result"
    }
   ],
   "source": [
    "X_full.isnull().values.any()"
   ]
  },
  {
   "cell_type": "code",
   "execution_count": 21,
   "metadata": {
    "scrolled": true
   },
   "outputs": [
    {
     "name": "stdout",
     "output_type": "stream",
     "text": [
      "(492, 31) (284315, 31)\n"
     ]
    }
   ],
   "source": [
    "fraud = X_full[X_full['Class'] == 1] \n",
    "valid = X_full[X_full['Class'] == 0]\n",
    "print(fraud.shape,valid.shape)"
   ]
  },
  {
   "cell_type": "raw",
   "metadata": {},
   "source": [
    "#Since most of the data are valid we have an unbalanced data . all the algorithms will perform well and will probably overfit"
   ]
  },
  {
   "cell_type": "code",
   "execution_count": 22,
   "metadata": {},
   "outputs": [],
   "source": [
    "from sklearn.model_selection import train_test_split\n",
    "X_train, X_test, y_train, y_test = train_test_split(X_full, y, \n",
    "                                                                train_size=0.8, test_size=0.2,\n",
    "                                                                random_state=40)"
   ]
  },
  {
   "cell_type": "code",
   "execution_count": 23,
   "metadata": {},
   "outputs": [
    {
     "data": {
      "text/plain": [
       "RandomForestClassifier(bootstrap=True, class_weight=None, criterion='gini',\n",
       "                       max_depth=None, max_features='auto', max_leaf_nodes=None,\n",
       "                       min_impurity_decrease=0.0, min_impurity_split=None,\n",
       "                       min_samples_leaf=1, min_samples_split=2,\n",
       "                       min_weight_fraction_leaf=0.0, n_estimators=10,\n",
       "                       n_jobs=None, oob_score=False, random_state=None,\n",
       "                       verbose=0, warm_start=False)"
      ]
     },
     "execution_count": 23,
     "metadata": {},
     "output_type": "execute_result"
    }
   ],
   "source": [
    "from sklearn.ensemble import RandomForestClassifier \n",
    "# random forest model creation \n",
    "rfc = RandomForestClassifier(n_estimators=10) \n",
    "rfc.fit(X_train,y_train) \n"
   ]
  },
  {
   "cell_type": "code",
   "execution_count": 24,
   "metadata": {},
   "outputs": [
    {
     "name": "stdout",
     "output_type": "stream",
     "text": [
      "1.0\n"
     ]
    }
   ],
   "source": [
    "preds = rfc.predict(X_test) \n",
    "from sklearn.metrics import accuracy_score  \n",
    "\n",
    "print(accuracy_score(y_test,preds))"
   ]
  },
  {
   "cell_type": "code",
   "execution_count": 25,
   "metadata": {
    "scrolled": true
   },
   "outputs": [
    {
     "name": "stdout",
     "output_type": "stream",
     "text": [
      "The accuracy of Naive Bayes is 0.9930304413468628\n"
     ]
    }
   ],
   "source": [
    "from sklearn.naive_bayes import GaussianNB \n",
    "gnb = GaussianNB()\n",
    "gnb.fit(X_train, y_train)\n",
    "preds=gnb.predict(X_test)\n",
    "acc = accuracy_score(y_test, preds) \n",
    "print(\"The accuracy of Naive Bayes is {}\".format(acc)) "
   ]
  },
  {
   "cell_type": "raw",
   "metadata": {},
   "source": [
    "# since the algorithms are overfitting to create a balanced dataset we will choose randomly the same number of faudulent cards for valid cards and concatenate both of them"
   ]
  },
  {
   "cell_type": "code",
   "execution_count": 34,
   "metadata": {},
   "outputs": [],
   "source": [
    "data = X_full.sample(frac=1)\n",
    "fraud_data = data.loc[data['Class'] == 1]\n",
    "non_fraud_data = data.loc[data['Class'] == 0][:492]\n",
    "\n",
    "dataa1 = pd.concat([fraud_data, non_fraud_data])"
   ]
  },
  {
   "cell_type": "code",
   "execution_count": 35,
   "metadata": {},
   "outputs": [
    {
     "data": {
      "text/html": [
       "<div>\n",
       "<style scoped>\n",
       "    .dataframe tbody tr th:only-of-type {\n",
       "        vertical-align: middle;\n",
       "    }\n",
       "\n",
       "    .dataframe tbody tr th {\n",
       "        vertical-align: top;\n",
       "    }\n",
       "\n",
       "    .dataframe thead th {\n",
       "        text-align: right;\n",
       "    }\n",
       "</style>\n",
       "<table border=\"1\" class=\"dataframe\">\n",
       "  <thead>\n",
       "    <tr style=\"text-align: right;\">\n",
       "      <th></th>\n",
       "      <th>Time</th>\n",
       "      <th>V1</th>\n",
       "      <th>V2</th>\n",
       "      <th>V3</th>\n",
       "      <th>V4</th>\n",
       "      <th>V5</th>\n",
       "      <th>V6</th>\n",
       "      <th>V7</th>\n",
       "      <th>V8</th>\n",
       "      <th>V9</th>\n",
       "      <th>...</th>\n",
       "      <th>V21</th>\n",
       "      <th>V22</th>\n",
       "      <th>V23</th>\n",
       "      <th>V24</th>\n",
       "      <th>V25</th>\n",
       "      <th>V26</th>\n",
       "      <th>V27</th>\n",
       "      <th>V28</th>\n",
       "      <th>Amount</th>\n",
       "      <th>Class</th>\n",
       "    </tr>\n",
       "  </thead>\n",
       "  <tbody>\n",
       "    <tr>\n",
       "      <td>37661</td>\n",
       "      <td>39053.0</td>\n",
       "      <td>1.093272</td>\n",
       "      <td>0.692052</td>\n",
       "      <td>-0.206207</td>\n",
       "      <td>2.487222</td>\n",
       "      <td>0.498327</td>\n",
       "      <td>0.138412</td>\n",
       "      <td>0.046504</td>\n",
       "      <td>0.184603</td>\n",
       "      <td>-0.943326</td>\n",
       "      <td>...</td>\n",
       "      <td>0.093765</td>\n",
       "      <td>0.203992</td>\n",
       "      <td>-0.174235</td>\n",
       "      <td>-0.438661</td>\n",
       "      <td>0.553693</td>\n",
       "      <td>0.180148</td>\n",
       "      <td>0.007115</td>\n",
       "      <td>0.036011</td>\n",
       "      <td>20.00</td>\n",
       "      <td>0</td>\n",
       "    </tr>\n",
       "    <tr>\n",
       "      <td>47802</td>\n",
       "      <td>43369.0</td>\n",
       "      <td>-3.365319</td>\n",
       "      <td>2.426503</td>\n",
       "      <td>-3.752227</td>\n",
       "      <td>0.276017</td>\n",
       "      <td>-2.305870</td>\n",
       "      <td>-1.961578</td>\n",
       "      <td>-3.029283</td>\n",
       "      <td>-1.674462</td>\n",
       "      <td>0.183961</td>\n",
       "      <td>...</td>\n",
       "      <td>2.070008</td>\n",
       "      <td>-0.512626</td>\n",
       "      <td>-0.248502</td>\n",
       "      <td>0.126550</td>\n",
       "      <td>0.104166</td>\n",
       "      <td>-1.055997</td>\n",
       "      <td>-1.200165</td>\n",
       "      <td>-1.012066</td>\n",
       "      <td>88.00</td>\n",
       "      <td>1</td>\n",
       "    </tr>\n",
       "    <tr>\n",
       "      <td>93802</td>\n",
       "      <td>64592.0</td>\n",
       "      <td>0.141284</td>\n",
       "      <td>1.157189</td>\n",
       "      <td>-1.583486</td>\n",
       "      <td>0.234831</td>\n",
       "      <td>2.633781</td>\n",
       "      <td>3.621578</td>\n",
       "      <td>-1.368127</td>\n",
       "      <td>-1.821977</td>\n",
       "      <td>-0.855725</td>\n",
       "      <td>...</td>\n",
       "      <td>-1.346602</td>\n",
       "      <td>0.026057</td>\n",
       "      <td>-0.314791</td>\n",
       "      <td>0.863906</td>\n",
       "      <td>0.822174</td>\n",
       "      <td>-0.226568</td>\n",
       "      <td>0.162303</td>\n",
       "      <td>0.304099</td>\n",
       "      <td>1.00</td>\n",
       "      <td>0</td>\n",
       "    </tr>\n",
       "    <tr>\n",
       "      <td>157871</td>\n",
       "      <td>110552.0</td>\n",
       "      <td>-2.450367</td>\n",
       "      <td>2.107729</td>\n",
       "      <td>-5.140663</td>\n",
       "      <td>1.411304</td>\n",
       "      <td>-1.690780</td>\n",
       "      <td>-0.736427</td>\n",
       "      <td>-3.657946</td>\n",
       "      <td>1.944906</td>\n",
       "      <td>-0.788388</td>\n",
       "      <td>...</td>\n",
       "      <td>0.800538</td>\n",
       "      <td>0.364617</td>\n",
       "      <td>0.233608</td>\n",
       "      <td>-0.282078</td>\n",
       "      <td>-0.320311</td>\n",
       "      <td>0.492920</td>\n",
       "      <td>0.359976</td>\n",
       "      <td>-0.115471</td>\n",
       "      <td>80.22</td>\n",
       "      <td>1</td>\n",
       "    </tr>\n",
       "    <tr>\n",
       "      <td>245347</td>\n",
       "      <td>152710.0</td>\n",
       "      <td>0.051075</td>\n",
       "      <td>1.310427</td>\n",
       "      <td>0.733222</td>\n",
       "      <td>2.620282</td>\n",
       "      <td>1.402358</td>\n",
       "      <td>0.528489</td>\n",
       "      <td>1.086014</td>\n",
       "      <td>-0.146423</td>\n",
       "      <td>-1.724333</td>\n",
       "      <td>...</td>\n",
       "      <td>0.229936</td>\n",
       "      <td>0.766927</td>\n",
       "      <td>-0.189624</td>\n",
       "      <td>0.766853</td>\n",
       "      <td>-0.141401</td>\n",
       "      <td>-0.077278</td>\n",
       "      <td>-0.297595</td>\n",
       "      <td>-0.221816</td>\n",
       "      <td>2.47</td>\n",
       "      <td>1</td>\n",
       "    </tr>\n",
       "  </tbody>\n",
       "</table>\n",
       "<p>5 rows × 31 columns</p>\n",
       "</div>"
      ],
      "text/plain": [
       "            Time        V1        V2        V3        V4        V5        V6  \\\n",
       "37661    39053.0  1.093272  0.692052 -0.206207  2.487222  0.498327  0.138412   \n",
       "47802    43369.0 -3.365319  2.426503 -3.752227  0.276017 -2.305870 -1.961578   \n",
       "93802    64592.0  0.141284  1.157189 -1.583486  0.234831  2.633781  3.621578   \n",
       "157871  110552.0 -2.450367  2.107729 -5.140663  1.411304 -1.690780 -0.736427   \n",
       "245347  152710.0  0.051075  1.310427  0.733222  2.620282  1.402358  0.528489   \n",
       "\n",
       "              V7        V8        V9  ...       V21       V22       V23  \\\n",
       "37661   0.046504  0.184603 -0.943326  ...  0.093765  0.203992 -0.174235   \n",
       "47802  -3.029283 -1.674462  0.183961  ...  2.070008 -0.512626 -0.248502   \n",
       "93802  -1.368127 -1.821977 -0.855725  ... -1.346602  0.026057 -0.314791   \n",
       "157871 -3.657946  1.944906 -0.788388  ...  0.800538  0.364617  0.233608   \n",
       "245347  1.086014 -0.146423 -1.724333  ...  0.229936  0.766927 -0.189624   \n",
       "\n",
       "             V24       V25       V26       V27       V28  Amount  Class  \n",
       "37661  -0.438661  0.553693  0.180148  0.007115  0.036011   20.00      0  \n",
       "47802   0.126550  0.104166 -1.055997 -1.200165 -1.012066   88.00      1  \n",
       "93802   0.863906  0.822174 -0.226568  0.162303  0.304099    1.00      0  \n",
       "157871 -0.282078 -0.320311  0.492920  0.359976 -0.115471   80.22      1  \n",
       "245347  0.766853 -0.141401 -0.077278 -0.297595 -0.221816    2.47      1  \n",
       "\n",
       "[5 rows x 31 columns]"
      ]
     },
     "execution_count": 35,
     "metadata": {},
     "output_type": "execute_result"
    }
   ],
   "source": [
    "data1 = dataa1.sample(frac=1, random_state=42)\n",
    "data1.head()\n"
   ]
  },
  {
   "cell_type": "code",
   "execution_count": 36,
   "metadata": {},
   "outputs": [
    {
     "data": {
      "text/plain": [
       "37661     0\n",
       "47802     1\n",
       "93802     0\n",
       "157871    1\n",
       "245347    1\n",
       "Name: Class, dtype: int64"
      ]
     },
     "execution_count": 36,
     "metadata": {},
     "output_type": "execute_result"
    }
   ],
   "source": [
    "data1.shape\n",
    "y=data1['Class']\n",
    "y.head()\n",
    "\n"
   ]
  },
  {
   "cell_type": "code",
   "execution_count": 37,
   "metadata": {},
   "outputs": [],
   "source": [
    "del data1['Class']\n"
   ]
  },
  {
   "cell_type": "code",
   "execution_count": 38,
   "metadata": {},
   "outputs": [],
   "source": [
    "from sklearn.model_selection import train_test_split \n",
    "# Split the data into training and testing sets \n",
    "X_train, X_test, y_train, y_test = train_test_split( \n",
    "        data1, y, test_size = 0.2, random_state = 40)"
   ]
  },
  {
   "cell_type": "code",
   "execution_count": 43,
   "metadata": {},
   "outputs": [
    {
     "name": "stdout",
     "output_type": "stream",
     "text": [
      "The accuracy of Render forest is 0.9238578680203046\n"
     ]
    },
    {
     "name": "stderr",
     "output_type": "stream",
     "text": [
      "C:\\Users\\Amal\\Anaconda3\\lib\\site-packages\\sklearn\\ensemble\\forest.py:245: FutureWarning: The default value of n_estimators will change from 10 in version 0.20 to 100 in 0.22.\n",
      "  \"10 in version 0.20 to 100 in 0.22.\", FutureWarning)\n"
     ]
    }
   ],
   "source": [
    "from sklearn.ensemble import RandomForestClassifier \n",
    "# random forest model creation \n",
    "rfc = RandomForestClassifier() \n",
    "rfc.fit(X_train, y_train) \n",
    "# predictions \n",
    "preds = rfc.predict(X_test) \n",
    "from sklearn.metrics import accuracy_score  \n",
    "acc = accuracy_score(y_test, preds) \n",
    "print(\"The accuracy of Render forest is {}\".format(acc)) "
   ]
  },
  {
   "cell_type": "code",
   "execution_count": 44,
   "metadata": {},
   "outputs": [
    {
     "name": "stdout",
     "output_type": "stream",
     "text": [
      "0.8527918781725888\n"
     ]
    }
   ],
   "source": [
    "from sklearn.naive_bayes import GaussianNB \n",
    "gnb = GaussianNB()\n",
    "gnb.fit(X_train,y_train)\n",
    "preds=gnb.predict(X_test)\n",
    "acc = accuracy_score(y_test, preds) \n",
    "print(acc)"
   ]
  },
  {
   "cell_type": "code",
   "execution_count": null,
   "metadata": {},
   "outputs": [],
   "source": []
  }
 ],
 "metadata": {
  "kernelspec": {
   "display_name": "Python 3",
   "language": "python",
   "name": "python3"
  },
  "language_info": {
   "codemirror_mode": {
    "name": "ipython",
    "version": 3
   },
   "file_extension": ".py",
   "mimetype": "text/x-python",
   "name": "python",
   "nbconvert_exporter": "python",
   "pygments_lexer": "ipython3",
   "version": "3.7.4"
  }
 },
 "nbformat": 4,
 "nbformat_minor": 2
}
